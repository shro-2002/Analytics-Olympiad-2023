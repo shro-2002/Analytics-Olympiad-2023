{
 "cells": [
  {
   "cell_type": "code",
   "execution_count": 102,
   "metadata": {},
   "outputs": [],
   "source": [
    "import numpy as np\n",
    "import pandas as pd\n",
    "import matplotlib.pyplot as plt\n",
    "import seaborn as sns\n",
    "import os"
   ]
  },
  {
   "cell_type": "code",
   "execution_count": 103,
   "metadata": {},
   "outputs": [],
   "source": [
    "#load data\n",
    "df_train = pd.read_csv('train.csv')\n",
    "df_test = pd.read_csv('test.csv')"
   ]
  },
  {
   "cell_type": "code",
   "execution_count": 104,
   "metadata": {},
   "outputs": [
    {
     "data": {
      "text/html": [
       "<div>\n",
       "<style scoped>\n",
       "    .dataframe tbody tr th:only-of-type {\n",
       "        vertical-align: middle;\n",
       "    }\n",
       "\n",
       "    .dataframe tbody tr th {\n",
       "        vertical-align: top;\n",
       "    }\n",
       "\n",
       "    .dataframe thead th {\n",
       "        text-align: right;\n",
       "    }\n",
       "</style>\n",
       "<table border=\"1\" class=\"dataframe\">\n",
       "  <thead>\n",
       "    <tr style=\"text-align: right;\">\n",
       "      <th></th>\n",
       "      <th>customer_id</th>\n",
       "      <th>firstname</th>\n",
       "      <th>lastname</th>\n",
       "      <th>record_number</th>\n",
       "      <th>days_since_opened</th>\n",
       "      <th>days_since_confirmed</th>\n",
       "      <th>primary_term</th>\n",
       "      <th>final_term</th>\n",
       "      <th>days_till_primary_close</th>\n",
       "      <th>days_till_final_close</th>\n",
       "      <th>...</th>\n",
       "      <th>encoded_payment_21</th>\n",
       "      <th>encoded_payment_22</th>\n",
       "      <th>encoded_payment_23</th>\n",
       "      <th>encoded_payment_24</th>\n",
       "      <th>encoded_loans_account_holder_type</th>\n",
       "      <th>encoded_loans_credit_status</th>\n",
       "      <th>encoded_loans_credit_type</th>\n",
       "      <th>encoded_loans_account_currency</th>\n",
       "      <th>primary_close_flag</th>\n",
       "      <th>final_close_flag</th>\n",
       "    </tr>\n",
       "  </thead>\n",
       "  <tbody>\n",
       "    <tr>\n",
       "      <th>0</th>\n",
       "      <td>4814dfa2-45a8-46b9-8102-98ecbbec2d2a</td>\n",
       "      <td>Navya</td>\n",
       "      <td>Vasa</td>\n",
       "      <td>7</td>\n",
       "      <td>10</td>\n",
       "      <td>8</td>\n",
       "      <td>12</td>\n",
       "      <td>10</td>\n",
       "      <td>13</td>\n",
       "      <td>5</td>\n",
       "      <td>...</td>\n",
       "      <td>0.0</td>\n",
       "      <td>1.0</td>\n",
       "      <td>3.0</td>\n",
       "      <td>4.0</td>\n",
       "      <td>1</td>\n",
       "      <td>3</td>\n",
       "      <td>4</td>\n",
       "      <td>1</td>\n",
       "      <td>0</td>\n",
       "      <td>0</td>\n",
       "    </tr>\n",
       "    <tr>\n",
       "      <th>1</th>\n",
       "      <td>bb0abe41-cc89-4a1d-bb1c-48bd212ae00d</td>\n",
       "      <td>Azad</td>\n",
       "      <td>Warrior</td>\n",
       "      <td>5</td>\n",
       "      <td>15</td>\n",
       "      <td>6</td>\n",
       "      <td>7</td>\n",
       "      <td>6</td>\n",
       "      <td>9</td>\n",
       "      <td>1</td>\n",
       "      <td>...</td>\n",
       "      <td>3.0</td>\n",
       "      <td>3.0</td>\n",
       "      <td>3.0</td>\n",
       "      <td>4.0</td>\n",
       "      <td>1</td>\n",
       "      <td>3</td>\n",
       "      <td>4</td>\n",
       "      <td>1</td>\n",
       "      <td>0</td>\n",
       "      <td>0</td>\n",
       "    </tr>\n",
       "    <tr>\n",
       "      <th>2</th>\n",
       "      <td>edfd1a62-05da-4cfd-b8ae-521f05f0fd5f</td>\n",
       "      <td>Piya</td>\n",
       "      <td>Jha</td>\n",
       "      <td>1</td>\n",
       "      <td>15</td>\n",
       "      <td>17</td>\n",
       "      <td>8</td>\n",
       "      <td>5</td>\n",
       "      <td>9</td>\n",
       "      <td>1</td>\n",
       "      <td>...</td>\n",
       "      <td>3.0</td>\n",
       "      <td>3.0</td>\n",
       "      <td>3.0</td>\n",
       "      <td>4.0</td>\n",
       "      <td>1</td>\n",
       "      <td>3</td>\n",
       "      <td>4</td>\n",
       "      <td>1</td>\n",
       "      <td>0</td>\n",
       "      <td>0</td>\n",
       "    </tr>\n",
       "    <tr>\n",
       "      <th>3</th>\n",
       "      <td>3eaa4c2a-2316-48f4-b1b0-4aafe2286630</td>\n",
       "      <td>Rhea</td>\n",
       "      <td>Varma</td>\n",
       "      <td>11</td>\n",
       "      <td>7</td>\n",
       "      <td>2</td>\n",
       "      <td>11</td>\n",
       "      <td>13</td>\n",
       "      <td>14</td>\n",
       "      <td>8</td>\n",
       "      <td>...</td>\n",
       "      <td>3.0</td>\n",
       "      <td>3.0</td>\n",
       "      <td>3.0</td>\n",
       "      <td>4.0</td>\n",
       "      <td>1</td>\n",
       "      <td>2</td>\n",
       "      <td>4</td>\n",
       "      <td>1</td>\n",
       "      <td>0</td>\n",
       "      <td>0</td>\n",
       "    </tr>\n",
       "    <tr>\n",
       "      <th>4</th>\n",
       "      <td>c9a73239-baae-40eb-8855-dab07767ea86</td>\n",
       "      <td>Sahil</td>\n",
       "      <td>Dave</td>\n",
       "      <td>12</td>\n",
       "      <td>14</td>\n",
       "      <td>9</td>\n",
       "      <td>8</td>\n",
       "      <td>11</td>\n",
       "      <td>6</td>\n",
       "      <td>13</td>\n",
       "      <td>...</td>\n",
       "      <td>3.0</td>\n",
       "      <td>3.0</td>\n",
       "      <td>3.0</td>\n",
       "      <td>4.0</td>\n",
       "      <td>1</td>\n",
       "      <td>3</td>\n",
       "      <td>4</td>\n",
       "      <td>1</td>\n",
       "      <td>0</td>\n",
       "      <td>0</td>\n",
       "    </tr>\n",
       "  </tbody>\n",
       "</table>\n",
       "<p>5 rows × 62 columns</p>\n",
       "</div>"
      ],
      "text/plain": [
       "                            customer_id firstname lastname  record_number  \\\n",
       "0  4814dfa2-45a8-46b9-8102-98ecbbec2d2a     Navya     Vasa              7   \n",
       "1  bb0abe41-cc89-4a1d-bb1c-48bd212ae00d      Azad  Warrior              5   \n",
       "2  edfd1a62-05da-4cfd-b8ae-521f05f0fd5f      Piya      Jha              1   \n",
       "3  3eaa4c2a-2316-48f4-b1b0-4aafe2286630      Rhea    Varma             11   \n",
       "4  c9a73239-baae-40eb-8855-dab07767ea86     Sahil     Dave             12   \n",
       "\n",
       "   days_since_opened  days_since_confirmed  primary_term  final_term  \\\n",
       "0                 10                     8            12          10   \n",
       "1                 15                     6             7           6   \n",
       "2                 15                    17             8           5   \n",
       "3                  7                     2            11          13   \n",
       "4                 14                     9             8          11   \n",
       "\n",
       "   days_till_primary_close  days_till_final_close  ...  encoded_payment_21  \\\n",
       "0                       13                      5  ...                 0.0   \n",
       "1                        9                      1  ...                 3.0   \n",
       "2                        9                      1  ...                 3.0   \n",
       "3                       14                      8  ...                 3.0   \n",
       "4                        6                     13  ...                 3.0   \n",
       "\n",
       "   encoded_payment_22  encoded_payment_23  encoded_payment_24  \\\n",
       "0                 1.0                 3.0                 4.0   \n",
       "1                 3.0                 3.0                 4.0   \n",
       "2                 3.0                 3.0                 4.0   \n",
       "3                 3.0                 3.0                 4.0   \n",
       "4                 3.0                 3.0                 4.0   \n",
       "\n",
       "   encoded_loans_account_holder_type  encoded_loans_credit_status  \\\n",
       "0                                  1                            3   \n",
       "1                                  1                            3   \n",
       "2                                  1                            3   \n",
       "3                                  1                            2   \n",
       "4                                  1                            3   \n",
       "\n",
       "   encoded_loans_credit_type  encoded_loans_account_currency  \\\n",
       "0                          4                               1   \n",
       "1                          4                               1   \n",
       "2                          4                               1   \n",
       "3                          4                               1   \n",
       "4                          4                               1   \n",
       "\n",
       "   primary_close_flag  final_close_flag  \n",
       "0                   0                 0  \n",
       "1                   0                 0  \n",
       "2                   0                 0  \n",
       "3                   0                 0  \n",
       "4                   0                 0  \n",
       "\n",
       "[5 rows x 62 columns]"
      ]
     },
     "execution_count": 104,
     "metadata": {},
     "output_type": "execute_result"
    }
   ],
   "source": [
    "df_train.head()"
   ]
  },
  {
   "cell_type": "code",
   "execution_count": 105,
   "metadata": {},
   "outputs": [
    {
     "data": {
      "text/plain": [
       "(1106674, 62)"
      ]
     },
     "execution_count": 105,
     "metadata": {},
     "output_type": "execute_result"
    }
   ],
   "source": [
    "df_train.shape"
   ]
  },
  {
   "cell_type": "code",
   "execution_count": 106,
   "metadata": {},
   "outputs": [
    {
     "name": "stdout",
     "output_type": "stream",
     "text": [
      "<class 'pandas.core.frame.DataFrame'>\n",
      "RangeIndex: 1106674 entries, 0 to 1106673\n",
      "Data columns (total 62 columns):\n",
      " #   Column                              Non-Null Count    Dtype  \n",
      "---  ------                              --------------    -----  \n",
      " 0   customer_id                         1106674 non-null  object \n",
      " 1   firstname                           1106674 non-null  object \n",
      " 2   lastname                            1106674 non-null  object \n",
      " 3   record_number                       1106674 non-null  int64  \n",
      " 4   days_since_opened                   1106674 non-null  int64  \n",
      " 5   days_since_confirmed                1106674 non-null  int64  \n",
      " 6   primary_term                        1106674 non-null  int64  \n",
      " 7   final_term                          1106674 non-null  int64  \n",
      " 8   days_till_primary_close             1106674 non-null  int64  \n",
      " 9   days_till_final_close               1106674 non-null  int64  \n",
      " 10  loans_credit_limit                  1106674 non-null  int64  \n",
      " 11  loans_next_payment_summary          1106674 non-null  int64  \n",
      " 12  loans_outstanding_balance           1106674 non-null  int64  \n",
      " 13  loans_max_overdue_amount            1106674 non-null  int64  \n",
      " 14  loans_credit_cost_rate              1106674 non-null  int64  \n",
      " 15  loans_within_5_days                 1106674 non-null  int64  \n",
      " 16  loans_within_5_to_30_days           1106674 non-null  int64  \n",
      " 17  loans_within_30_to_60_days          1106674 non-null  int64  \n",
      " 18  loans_within_60_to_90_days          1106674 non-null  int64  \n",
      " 19  loans_over_90_days                  1106674 non-null  int64  \n",
      " 20  is_zero_loans_within_5_days         1106674 non-null  object \n",
      " 21  is_zero_loans_within_5_to_30_days   1106674 non-null  object \n",
      " 22  is_zero_loans_within_30_to_60_days  1106674 non-null  object \n",
      " 23  is_zero_loans_within_60_to_90_days  1106674 non-null  object \n",
      " 24  is_zero_loans_over_90_days          1106674 non-null  object \n",
      " 25  utilization                         1106674 non-null  int64  \n",
      " 26  over_limit_count                    1106674 non-null  int64  \n",
      " 27  max_over_limit_count                1106674 non-null  int64  \n",
      " 28  is_zero_utilization                 1106674 non-null  object \n",
      " 29  is_zero_over_limit_count            1106674 non-null  object \n",
      " 30  is_zero_max_over_limit_count        1106674 non-null  object \n",
      " 31  encoded_payment_0                   1069055 non-null  float64\n",
      " 32  encoded_payment_1                   1070930 non-null  float64\n",
      " 33  encoded_payment_2                   1072062 non-null  float64\n",
      " 34  encoded_payment_3                   1069258 non-null  float64\n",
      " 35  encoded_payment_4                   1070834 non-null  float64\n",
      " 36  encoded_payment_5                   1071370 non-null  float64\n",
      " 37  encoded_payment_6                   1068655 non-null  float64\n",
      " 38  encoded_payment_7                   1071045 non-null  float64\n",
      " 39  encoded_payment_8                   1071912 non-null  float64\n",
      " 40  encoded_payment_9                   1070823 non-null  float64\n",
      " 41  encoded_payment_10                  1071039 non-null  float64\n",
      " 42  encoded_payment_11                  1071475 non-null  float64\n",
      " 43  encoded_payment_12                  1068866 non-null  float64\n",
      " 44  encoded_payment_13                  1071323 non-null  float64\n",
      " 45  encoded_payment_14                  1069215 non-null  float64\n",
      " 46  encoded_payment_15                  1070000 non-null  float64\n",
      " 47  encoded_payment_16                  1071962 non-null  float64\n",
      " 48  encoded_payment_17                  1069359 non-null  float64\n",
      " 49  encoded_payment_18                  1071406 non-null  float64\n",
      " 50  encoded_payment_19                  1070293 non-null  float64\n",
      " 51  encoded_payment_20                  1069155 non-null  float64\n",
      " 52  encoded_payment_21                  1069126 non-null  float64\n",
      " 53  encoded_payment_22                  1069519 non-null  float64\n",
      " 54  encoded_payment_23                  1070131 non-null  float64\n",
      " 55  encoded_payment_24                  1070629 non-null  float64\n",
      " 56  encoded_loans_account_holder_type   1106674 non-null  int64  \n",
      " 57  encoded_loans_credit_status         1106674 non-null  int64  \n",
      " 58  encoded_loans_credit_type           1106674 non-null  int64  \n",
      " 59  encoded_loans_account_currency      1106674 non-null  int64  \n",
      " 60  primary_close_flag                  1106674 non-null  int64  \n",
      " 61  final_close_flag                    1106674 non-null  int64  \n",
      "dtypes: float64(25), int64(26), object(11)\n",
      "memory usage: 523.5+ MB\n"
     ]
    }
   ],
   "source": [
    "df_train.info()"
   ]
  },
  {
   "cell_type": "code",
   "execution_count": 107,
   "metadata": {},
   "outputs": [
    {
     "data": {
      "text/html": [
       "<div>\n",
       "<style scoped>\n",
       "    .dataframe tbody tr th:only-of-type {\n",
       "        vertical-align: middle;\n",
       "    }\n",
       "\n",
       "    .dataframe tbody tr th {\n",
       "        vertical-align: top;\n",
       "    }\n",
       "\n",
       "    .dataframe thead th {\n",
       "        text-align: right;\n",
       "    }\n",
       "</style>\n",
       "<table border=\"1\" class=\"dataframe\">\n",
       "  <thead>\n",
       "    <tr style=\"text-align: right;\">\n",
       "      <th></th>\n",
       "      <th>record_number</th>\n",
       "      <th>days_since_opened</th>\n",
       "      <th>days_since_confirmed</th>\n",
       "      <th>primary_term</th>\n",
       "      <th>final_term</th>\n",
       "      <th>days_till_primary_close</th>\n",
       "      <th>days_till_final_close</th>\n",
       "      <th>loans_credit_limit</th>\n",
       "      <th>loans_next_payment_summary</th>\n",
       "      <th>loans_outstanding_balance</th>\n",
       "      <th>...</th>\n",
       "      <th>encoded_payment_21</th>\n",
       "      <th>encoded_payment_22</th>\n",
       "      <th>encoded_payment_23</th>\n",
       "      <th>encoded_payment_24</th>\n",
       "      <th>encoded_loans_account_holder_type</th>\n",
       "      <th>encoded_loans_credit_status</th>\n",
       "      <th>encoded_loans_credit_type</th>\n",
       "      <th>encoded_loans_account_currency</th>\n",
       "      <th>primary_close_flag</th>\n",
       "      <th>final_close_flag</th>\n",
       "    </tr>\n",
       "  </thead>\n",
       "  <tbody>\n",
       "    <tr>\n",
       "      <th>count</th>\n",
       "      <td>1.106674e+06</td>\n",
       "      <td>1.106674e+06</td>\n",
       "      <td>1.106674e+06</td>\n",
       "      <td>1.106674e+06</td>\n",
       "      <td>1.106674e+06</td>\n",
       "      <td>1.106674e+06</td>\n",
       "      <td>1.106674e+06</td>\n",
       "      <td>1.106674e+06</td>\n",
       "      <td>1.106674e+06</td>\n",
       "      <td>1.106674e+06</td>\n",
       "      <td>...</td>\n",
       "      <td>1.069126e+06</td>\n",
       "      <td>1.069519e+06</td>\n",
       "      <td>1.070131e+06</td>\n",
       "      <td>1.070629e+06</td>\n",
       "      <td>1.106674e+06</td>\n",
       "      <td>1.106674e+06</td>\n",
       "      <td>1.106674e+06</td>\n",
       "      <td>1.106674e+06</td>\n",
       "      <td>1.106674e+06</td>\n",
       "      <td>1.106674e+06</td>\n",
       "    </tr>\n",
       "    <tr>\n",
       "      <th>mean</th>\n",
       "      <td>9.149727e+00</td>\n",
       "      <td>9.433967e+00</td>\n",
       "      <td>8.231377e+00</td>\n",
       "      <td>8.408147e+00</td>\n",
       "      <td>8.282763e+00</td>\n",
       "      <td>7.273099e+00</td>\n",
       "      <td>8.193988e+00</td>\n",
       "      <td>9.715922e+00</td>\n",
       "      <td>2.332612e+00</td>\n",
       "      <td>2.993031e+00</td>\n",
       "      <td>...</td>\n",
       "      <td>2.328069e+00</td>\n",
       "      <td>2.359353e+00</td>\n",
       "      <td>2.393023e+00</td>\n",
       "      <td>3.529236e+00</td>\n",
       "      <td>1.029407e+00</td>\n",
       "      <td>2.758336e+00</td>\n",
       "      <td>3.599215e+00</td>\n",
       "      <td>1.001480e+00</td>\n",
       "      <td>1.282708e-01</td>\n",
       "      <td>1.910454e-01</td>\n",
       "    </tr>\n",
       "    <tr>\n",
       "      <th>std</th>\n",
       "      <td>5.746106e+00</td>\n",
       "      <td>5.747728e+00</td>\n",
       "      <td>4.776280e+00</td>\n",
       "      <td>5.282007e+00</td>\n",
       "      <td>4.565543e+00</td>\n",
       "      <td>5.094787e+00</td>\n",
       "      <td>4.321941e+00</td>\n",
       "      <td>5.844795e+00</td>\n",
       "      <td>1.247430e+00</td>\n",
       "      <td>6.411320e-01</td>\n",
       "      <td>...</td>\n",
       "      <td>1.238293e+00</td>\n",
       "      <td>1.217475e+00</td>\n",
       "      <td>1.193804e+00</td>\n",
       "      <td>1.081633e+00</td>\n",
       "      <td>2.931483e-01</td>\n",
       "      <td>4.686307e-01</td>\n",
       "      <td>1.011067e+00</td>\n",
       "      <td>4.470347e-02</td>\n",
       "      <td>3.343913e-01</td>\n",
       "      <td>3.931249e-01</td>\n",
       "    </tr>\n",
       "    <tr>\n",
       "      <th>min</th>\n",
       "      <td>1.000000e+00</td>\n",
       "      <td>0.000000e+00</td>\n",
       "      <td>0.000000e+00</td>\n",
       "      <td>0.000000e+00</td>\n",
       "      <td>0.000000e+00</td>\n",
       "      <td>0.000000e+00</td>\n",
       "      <td>0.000000e+00</td>\n",
       "      <td>0.000000e+00</td>\n",
       "      <td>0.000000e+00</td>\n",
       "      <td>1.000000e+00</td>\n",
       "      <td>...</td>\n",
       "      <td>0.000000e+00</td>\n",
       "      <td>0.000000e+00</td>\n",
       "      <td>0.000000e+00</td>\n",
       "      <td>1.000000e+00</td>\n",
       "      <td>0.000000e+00</td>\n",
       "      <td>0.000000e+00</td>\n",
       "      <td>0.000000e+00</td>\n",
       "      <td>0.000000e+00</td>\n",
       "      <td>0.000000e+00</td>\n",
       "      <td>0.000000e+00</td>\n",
       "    </tr>\n",
       "    <tr>\n",
       "      <th>25%</th>\n",
       "      <td>5.000000e+00</td>\n",
       "      <td>5.000000e+00</td>\n",
       "      <td>4.000000e+00</td>\n",
       "      <td>4.000000e+00</td>\n",
       "      <td>5.000000e+00</td>\n",
       "      <td>2.000000e+00</td>\n",
       "      <td>5.000000e+00</td>\n",
       "      <td>5.000000e+00</td>\n",
       "      <td>2.000000e+00</td>\n",
       "      <td>3.000000e+00</td>\n",
       "      <td>...</td>\n",
       "      <td>3.000000e+00</td>\n",
       "      <td>3.000000e+00</td>\n",
       "      <td>3.000000e+00</td>\n",
       "      <td>4.000000e+00</td>\n",
       "      <td>1.000000e+00</td>\n",
       "      <td>2.000000e+00</td>\n",
       "      <td>3.000000e+00</td>\n",
       "      <td>1.000000e+00</td>\n",
       "      <td>0.000000e+00</td>\n",
       "      <td>0.000000e+00</td>\n",
       "    </tr>\n",
       "    <tr>\n",
       "      <th>50%</th>\n",
       "      <td>9.000000e+00</td>\n",
       "      <td>1.000000e+01</td>\n",
       "      <td>9.000000e+00</td>\n",
       "      <td>8.000000e+00</td>\n",
       "      <td>8.000000e+00</td>\n",
       "      <td>7.000000e+00</td>\n",
       "      <td>9.000000e+00</td>\n",
       "      <td>1.000000e+01</td>\n",
       "      <td>2.000000e+00</td>\n",
       "      <td>3.000000e+00</td>\n",
       "      <td>...</td>\n",
       "      <td>3.000000e+00</td>\n",
       "      <td>3.000000e+00</td>\n",
       "      <td>3.000000e+00</td>\n",
       "      <td>4.000000e+00</td>\n",
       "      <td>1.000000e+00</td>\n",
       "      <td>3.000000e+00</td>\n",
       "      <td>4.000000e+00</td>\n",
       "      <td>1.000000e+00</td>\n",
       "      <td>0.000000e+00</td>\n",
       "      <td>0.000000e+00</td>\n",
       "    </tr>\n",
       "    <tr>\n",
       "      <th>75%</th>\n",
       "      <td>1.300000e+01</td>\n",
       "      <td>1.400000e+01</td>\n",
       "      <td>1.200000e+01</td>\n",
       "      <td>1.400000e+01</td>\n",
       "      <td>1.200000e+01</td>\n",
       "      <td>1.200000e+01</td>\n",
       "      <td>1.100000e+01</td>\n",
       "      <td>1.500000e+01</td>\n",
       "      <td>2.000000e+00</td>\n",
       "      <td>3.000000e+00</td>\n",
       "      <td>...</td>\n",
       "      <td>3.000000e+00</td>\n",
       "      <td>3.000000e+00</td>\n",
       "      <td>3.000000e+00</td>\n",
       "      <td>4.000000e+00</td>\n",
       "      <td>1.000000e+00</td>\n",
       "      <td>3.000000e+00</td>\n",
       "      <td>4.000000e+00</td>\n",
       "      <td>1.000000e+00</td>\n",
       "      <td>0.000000e+00</td>\n",
       "      <td>0.000000e+00</td>\n",
       "    </tr>\n",
       "    <tr>\n",
       "      <th>max</th>\n",
       "      <td>4.700000e+01</td>\n",
       "      <td>1.900000e+01</td>\n",
       "      <td>1.700000e+01</td>\n",
       "      <td>1.700000e+01</td>\n",
       "      <td>1.600000e+01</td>\n",
       "      <td>1.600000e+01</td>\n",
       "      <td>1.500000e+01</td>\n",
       "      <td>1.900000e+01</td>\n",
       "      <td>6.000000e+00</td>\n",
       "      <td>5.000000e+00</td>\n",
       "      <td>...</td>\n",
       "      <td>3.000000e+00</td>\n",
       "      <td>3.000000e+00</td>\n",
       "      <td>3.000000e+00</td>\n",
       "      <td>4.000000e+00</td>\n",
       "      <td>6.000000e+00</td>\n",
       "      <td>6.000000e+00</td>\n",
       "      <td>7.000000e+00</td>\n",
       "      <td>3.000000e+00</td>\n",
       "      <td>1.000000e+00</td>\n",
       "      <td>1.000000e+00</td>\n",
       "    </tr>\n",
       "  </tbody>\n",
       "</table>\n",
       "<p>8 rows × 51 columns</p>\n",
       "</div>"
      ],
      "text/plain": [
       "       record_number  days_since_opened  days_since_confirmed  primary_term  \\\n",
       "count   1.106674e+06       1.106674e+06          1.106674e+06  1.106674e+06   \n",
       "mean    9.149727e+00       9.433967e+00          8.231377e+00  8.408147e+00   \n",
       "std     5.746106e+00       5.747728e+00          4.776280e+00  5.282007e+00   \n",
       "min     1.000000e+00       0.000000e+00          0.000000e+00  0.000000e+00   \n",
       "25%     5.000000e+00       5.000000e+00          4.000000e+00  4.000000e+00   \n",
       "50%     9.000000e+00       1.000000e+01          9.000000e+00  8.000000e+00   \n",
       "75%     1.300000e+01       1.400000e+01          1.200000e+01  1.400000e+01   \n",
       "max     4.700000e+01       1.900000e+01          1.700000e+01  1.700000e+01   \n",
       "\n",
       "         final_term  days_till_primary_close  days_till_final_close  \\\n",
       "count  1.106674e+06             1.106674e+06           1.106674e+06   \n",
       "mean   8.282763e+00             7.273099e+00           8.193988e+00   \n",
       "std    4.565543e+00             5.094787e+00           4.321941e+00   \n",
       "min    0.000000e+00             0.000000e+00           0.000000e+00   \n",
       "25%    5.000000e+00             2.000000e+00           5.000000e+00   \n",
       "50%    8.000000e+00             7.000000e+00           9.000000e+00   \n",
       "75%    1.200000e+01             1.200000e+01           1.100000e+01   \n",
       "max    1.600000e+01             1.600000e+01           1.500000e+01   \n",
       "\n",
       "       loans_credit_limit  loans_next_payment_summary  \\\n",
       "count        1.106674e+06                1.106674e+06   \n",
       "mean         9.715922e+00                2.332612e+00   \n",
       "std          5.844795e+00                1.247430e+00   \n",
       "min          0.000000e+00                0.000000e+00   \n",
       "25%          5.000000e+00                2.000000e+00   \n",
       "50%          1.000000e+01                2.000000e+00   \n",
       "75%          1.500000e+01                2.000000e+00   \n",
       "max          1.900000e+01                6.000000e+00   \n",
       "\n",
       "       loans_outstanding_balance  ...  encoded_payment_21  encoded_payment_22  \\\n",
       "count               1.106674e+06  ...        1.069126e+06        1.069519e+06   \n",
       "mean                2.993031e+00  ...        2.328069e+00        2.359353e+00   \n",
       "std                 6.411320e-01  ...        1.238293e+00        1.217475e+00   \n",
       "min                 1.000000e+00  ...        0.000000e+00        0.000000e+00   \n",
       "25%                 3.000000e+00  ...        3.000000e+00        3.000000e+00   \n",
       "50%                 3.000000e+00  ...        3.000000e+00        3.000000e+00   \n",
       "75%                 3.000000e+00  ...        3.000000e+00        3.000000e+00   \n",
       "max                 5.000000e+00  ...        3.000000e+00        3.000000e+00   \n",
       "\n",
       "       encoded_payment_23  encoded_payment_24  \\\n",
       "count        1.070131e+06        1.070629e+06   \n",
       "mean         2.393023e+00        3.529236e+00   \n",
       "std          1.193804e+00        1.081633e+00   \n",
       "min          0.000000e+00        1.000000e+00   \n",
       "25%          3.000000e+00        4.000000e+00   \n",
       "50%          3.000000e+00        4.000000e+00   \n",
       "75%          3.000000e+00        4.000000e+00   \n",
       "max          3.000000e+00        4.000000e+00   \n",
       "\n",
       "       encoded_loans_account_holder_type  encoded_loans_credit_status  \\\n",
       "count                       1.106674e+06                 1.106674e+06   \n",
       "mean                        1.029407e+00                 2.758336e+00   \n",
       "std                         2.931483e-01                 4.686307e-01   \n",
       "min                         0.000000e+00                 0.000000e+00   \n",
       "25%                         1.000000e+00                 2.000000e+00   \n",
       "50%                         1.000000e+00                 3.000000e+00   \n",
       "75%                         1.000000e+00                 3.000000e+00   \n",
       "max                         6.000000e+00                 6.000000e+00   \n",
       "\n",
       "       encoded_loans_credit_type  encoded_loans_account_currency  \\\n",
       "count               1.106674e+06                    1.106674e+06   \n",
       "mean                3.599215e+00                    1.001480e+00   \n",
       "std                 1.011067e+00                    4.470347e-02   \n",
       "min                 0.000000e+00                    0.000000e+00   \n",
       "25%                 3.000000e+00                    1.000000e+00   \n",
       "50%                 4.000000e+00                    1.000000e+00   \n",
       "75%                 4.000000e+00                    1.000000e+00   \n",
       "max                 7.000000e+00                    3.000000e+00   \n",
       "\n",
       "       primary_close_flag  final_close_flag  \n",
       "count        1.106674e+06      1.106674e+06  \n",
       "mean         1.282708e-01      1.910454e-01  \n",
       "std          3.343913e-01      3.931249e-01  \n",
       "min          0.000000e+00      0.000000e+00  \n",
       "25%          0.000000e+00      0.000000e+00  \n",
       "50%          0.000000e+00      0.000000e+00  \n",
       "75%          0.000000e+00      0.000000e+00  \n",
       "max          1.000000e+00      1.000000e+00  \n",
       "\n",
       "[8 rows x 51 columns]"
      ]
     },
     "execution_count": 107,
     "metadata": {},
     "output_type": "execute_result"
    }
   ],
   "source": [
    "df_train.describe()"
   ]
  },
  {
   "cell_type": "code",
   "execution_count": 108,
   "metadata": {},
   "outputs": [
    {
     "data": {
      "text/plain": [
       "customer_id                       0\n",
       "firstname                         0\n",
       "lastname                          0\n",
       "record_number                     0\n",
       "days_since_opened                 0\n",
       "                                 ..\n",
       "encoded_loans_credit_status       0\n",
       "encoded_loans_credit_type         0\n",
       "encoded_loans_account_currency    0\n",
       "primary_close_flag                0\n",
       "final_close_flag                  0\n",
       "Length: 62, dtype: int64"
      ]
     },
     "execution_count": 108,
     "metadata": {},
     "output_type": "execute_result"
    }
   ],
   "source": [
    "# check for missing values\n",
    "df_train.isnull().sum()"
   ]
  },
  {
   "cell_type": "code",
   "execution_count": 109,
   "metadata": {},
   "outputs": [],
   "source": [
    "cols=['customer_id','firstname','lastname']\n",
    "df_train.drop(cols,axis=1,inplace=True)\n",
    "df_test.drop(cols,axis=1,inplace=True)"
   ]
  },
  {
   "cell_type": "code",
   "execution_count": 110,
   "metadata": {},
   "outputs": [
    {
     "data": {
      "image/png": "[encoded data removed]",
      "text/plain": [
       "<Figure size 640x480 with 1 Axes>"
      ]
     },
     "metadata": {},
     "output_type": "display_data"
    },
    {
     "data": {
      "image/png": "[encoded data removed]",
      "text/plain": [
       "<Figure size 640x480 with 1 Axes>"
      ]
     },
     "metadata": {},
     "output_type": "display_data"
    }
   ],
   "source": [
    "# visualize the count of target labels\n",
    "T_cols=['primary_close_flag','final_close_flag']\n",
    "\n",
    "for col in df_train[T_cols]:\n",
    "    sns.countplot(x=col,data=df_train)\n",
    "    plt.show()\n",
    "    \n",
    "\n"
   ]
  },
  {
   "cell_type": "code",
   "execution_count": 111,
   "metadata": {},
   "outputs": [],
   "source": [
    "encoded_features = ['encoded_payment_' + str(i) for i in range(25)]\n",
    "\n",
    "#drop the encoded features\n",
    "df_train.drop(encoded_features,axis=1,inplace=True)\n"
   ]
  },
  {
   "cell_type": "code",
   "execution_count": 112,
   "metadata": {},
   "outputs": [],
   "source": [
    "\n",
    "df_test.drop(encoded_features,axis=1,inplace=True)"
   ]
  },
  {
   "cell_type": "code",
   "execution_count": 113,
   "metadata": {},
   "outputs": [],
   "source": [
    "#label encoding\n",
    "\n",
    "from sklearn.preprocessing import LabelEncoder\n",
    "\n",
    "# Create a label encoder object\n",
    "le = LabelEncoder()\n",
    "\n",
    "# Iterate through each feature in df_train\n",
    "\n",
    "for col in df_train.columns:\n",
    "    # If the feature is categorical, convert to numeric\n",
    "    if df_train[col].dtype == 'object':\n",
    "        df_train[col] = le.fit_transform(df_train[col])\n",
    "    else:\n",
    "        pass\n",
    "\n",
    "# Iterate through each feature in df_test\n",
    "\n",
    "for col in df_test.columns:\n",
    "    # If the feature is categorical, convert to numeric\n",
    "    if df_test[col].dtype == 'object':\n",
    "        df_test[col] = le.fit_transform(df_test[col])\n",
    "    else:\n",
    "        pass"
   ]
  },
  {
   "cell_type": "code",
   "execution_count": 114,
   "metadata": {},
   "outputs": [
    {
     "data": {
      "text/plain": [
       "record_number                         int64\n",
       "days_since_opened                     int64\n",
       "days_since_confirmed                  int64\n",
       "primary_term                          int64\n",
       "final_term                            int64\n",
       "days_till_primary_close               int64\n",
       "days_till_final_close                 int64\n",
       "loans_credit_limit                    int64\n",
       "loans_next_payment_summary            int64\n",
       "loans_outstanding_balance             int64\n",
       "loans_max_overdue_amount              int64\n",
       "loans_credit_cost_rate                int64\n",
       "loans_within_5_days                   int64\n",
       "loans_within_5_to_30_days             int64\n",
       "loans_within_30_to_60_days            int64\n",
       "loans_within_60_to_90_days            int64\n",
       "loans_over_90_days                    int64\n",
       "is_zero_loans_within_5_days           int32\n",
       "is_zero_loans_within_5_to_30_days     int32\n",
       "is_zero_loans_within_30_to_60_days    int32\n",
       "is_zero_loans_within_60_to_90_days    int32\n",
       "is_zero_loans_over_90_days            int32\n",
       "utilization                           int64\n",
       "over_limit_count                      int64\n",
       "max_over_limit_count                  int64\n",
       "is_zero_utilization                   int32\n",
       "is_zero_over_limit_count              int32\n",
       "is_zero_max_over_limit_count          int32\n",
       "encoded_loans_account_holder_type     int64\n",
       "encoded_loans_credit_status           int64\n",
       "encoded_loans_credit_type             int64\n",
       "encoded_loans_account_currency        int64\n",
       "primary_close_flag                    int64\n",
       "final_close_flag                      int64\n",
       "dtype: object"
      ]
     },
     "execution_count": 114,
     "metadata": {},
     "output_type": "execute_result"
    }
   ],
   "source": [
    "df_train.dtypes"
   ]
  },
  {
   "cell_type": "code",
   "execution_count": 115,
   "metadata": {},
   "outputs": [],
   "source": [
    "X=df_train.drop(['primary_close_flag','final_close_flag'],axis=1)\n",
    "y=df_train[T_cols]\n"
   ]
  },
  {
   "cell_type": "code",
   "execution_count": 116,
   "metadata": {},
   "outputs": [
    {
     "data": {
      "text/html": [
       "<div>\n",
       "<style scoped>\n",
       "    .dataframe tbody tr th:only-of-type {\n",
       "        vertical-align: middle;\n",
       "    }\n",
       "\n",
       "    .dataframe tbody tr th {\n",
       "        vertical-align: top;\n",
       "    }\n",
       "\n",
       "    .dataframe thead th {\n",
       "        text-align: right;\n",
       "    }\n",
       "</style>\n",
       "<table border=\"1\" class=\"dataframe\">\n",
       "  <thead>\n",
       "    <tr style=\"text-align: right;\">\n",
       "      <th></th>\n",
       "      <th>primary_close_flag</th>\n",
       "      <th>final_close_flag</th>\n",
       "    </tr>\n",
       "  </thead>\n",
       "  <tbody>\n",
       "    <tr>\n",
       "      <th>0</th>\n",
       "      <td>0</td>\n",
       "      <td>0</td>\n",
       "    </tr>\n",
       "    <tr>\n",
       "      <th>1</th>\n",
       "      <td>0</td>\n",
       "      <td>0</td>\n",
       "    </tr>\n",
       "    <tr>\n",
       "      <th>2</th>\n",
       "      <td>0</td>\n",
       "      <td>0</td>\n",
       "    </tr>\n",
       "    <tr>\n",
       "      <th>3</th>\n",
       "      <td>0</td>\n",
       "      <td>0</td>\n",
       "    </tr>\n",
       "    <tr>\n",
       "      <th>4</th>\n",
       "      <td>0</td>\n",
       "      <td>0</td>\n",
       "    </tr>\n",
       "    <tr>\n",
       "      <th>...</th>\n",
       "      <td>...</td>\n",
       "      <td>...</td>\n",
       "    </tr>\n",
       "    <tr>\n",
       "      <th>1106669</th>\n",
       "      <td>0</td>\n",
       "      <td>0</td>\n",
       "    </tr>\n",
       "    <tr>\n",
       "      <th>1106670</th>\n",
       "      <td>0</td>\n",
       "      <td>0</td>\n",
       "    </tr>\n",
       "    <tr>\n",
       "      <th>1106671</th>\n",
       "      <td>0</td>\n",
       "      <td>0</td>\n",
       "    </tr>\n",
       "    <tr>\n",
       "      <th>1106672</th>\n",
       "      <td>0</td>\n",
       "      <td>0</td>\n",
       "    </tr>\n",
       "    <tr>\n",
       "      <th>1106673</th>\n",
       "      <td>0</td>\n",
       "      <td>0</td>\n",
       "    </tr>\n",
       "  </tbody>\n",
       "</table>\n",
       "<p>1106674 rows × 2 columns</p>\n",
       "</div>"
      ],
      "text/plain": [
       "         primary_close_flag  final_close_flag\n",
       "0                         0                 0\n",
       "1                         0                 0\n",
       "2                         0                 0\n",
       "3                         0                 0\n",
       "4                         0                 0\n",
       "...                     ...               ...\n",
       "1106669                   0                 0\n",
       "1106670                   0                 0\n",
       "1106671                   0                 0\n",
       "1106672                   0                 0\n",
       "1106673                   0                 0\n",
       "\n",
       "[1106674 rows x 2 columns]"
      ]
     },
     "execution_count": 116,
     "metadata": {},
     "output_type": "execute_result"
    }
   ],
   "source": [
    "y"
   ]
  },
  {
   "cell_type": "code",
   "execution_count": 117,
   "metadata": {},
   "outputs": [
    {
     "data": {
      "text/plain": [
       "record_number                         0\n",
       "days_since_opened                     0\n",
       "days_since_confirmed                  0\n",
       "primary_term                          0\n",
       "final_term                            0\n",
       "days_till_primary_close               0\n",
       "days_till_final_close                 0\n",
       "loans_credit_limit                    0\n",
       "loans_next_payment_summary            0\n",
       "loans_outstanding_balance             0\n",
       "loans_max_overdue_amount              0\n",
       "loans_credit_cost_rate                0\n",
       "loans_within_5_days                   0\n",
       "loans_within_5_to_30_days             0\n",
       "loans_within_30_to_60_days            0\n",
       "loans_within_60_to_90_days            0\n",
       "loans_over_90_days                    0\n",
       "is_zero_loans_within_5_days           0\n",
       "is_zero_loans_within_5_to_30_days     0\n",
       "is_zero_loans_within_30_to_60_days    0\n",
       "is_zero_loans_within_60_to_90_days    0\n",
       "is_zero_loans_over_90_days            0\n",
       "utilization                           0\n",
       "over_limit_count                      0\n",
       "max_over_limit_count                  0\n",
       "is_zero_utilization                   0\n",
       "is_zero_over_limit_count              0\n",
       "is_zero_max_over_limit_count          0\n",
       "encoded_loans_account_holder_type     0\n",
       "encoded_loans_credit_status           0\n",
       "encoded_loans_credit_type             0\n",
       "encoded_loans_account_currency        0\n",
       "dtype: int64"
      ]
     },
     "execution_count": 117,
     "metadata": {},
     "output_type": "execute_result"
    }
   ],
   "source": [
    "# check for missing values in X\n",
    "X.isnull().sum()"
   ]
  },
  {
   "cell_type": "code",
   "execution_count": 118,
   "metadata": {},
   "outputs": [],
   "source": [
    "\n",
    "# Apply PCA\n",
    "from sklearn.decomposition import PCA\n",
    "pca = PCA(n_components=5)\n",
    "pca.fit(X)\n",
    "X_pca = pca.transform(X)\n"
   ]
  },
  {
   "cell_type": "code",
   "execution_count": 119,
   "metadata": {},
   "outputs": [],
   "source": [
    "\n",
    "test_pca = pca.transform(df_test)"
   ]
  },
  {
   "cell_type": "code",
   "execution_count": 120,
   "metadata": {},
   "outputs": [
    {
     "name": "stdout",
     "output_type": "stream",
     "text": [
      "Requirement already satisfied: scikit-learn==1.2.2 in c:\\users\\kiit\\anaconda3\\lib\\site-packages (1.2.2)\n",
      "Requirement already satisfied: numpy>=1.17.3 in c:\\users\\kiit\\anaconda3\\lib\\site-packages (from scikit-learn==1.2.2) (1.24.3)\n",
      "Requirement already satisfied: scipy>=1.3.2 in c:\\users\\kiit\\anaconda3\\lib\\site-packages (from scikit-learn==1.2.2) (1.10.1)\n",
      "Requirement already satisfied: joblib>=1.1.1 in c:\\users\\kiit\\anaconda3\\lib\\site-packages (from scikit-learn==1.2.2) (1.2.0)\n",
      "Requirement already satisfied: threadpoolctl>=2.0.0 in c:\\users\\kiit\\anaconda3\\lib\\site-packages (from scikit-learn==1.2.2) (2.2.0)\n",
      "Note: you may need to restart the kernel to use updated packages.\n"
     ]
    }
   ],
   "source": [
    "%pip install scikit-learn==1.2.2"
   ]
  },
  {
   "cell_type": "code",
   "execution_count": 121,
   "metadata": {},
   "outputs": [],
   "source": [
    "from sklearn.model_selection import train_test_split\n",
    "\n",
    "# Split the data into training and testing sets\n",
    "X_train, X_test, y_train, y_test = train_test_split(X_pca,y, test_size = 0.25, random_state = 42)"
   ]
  },
  {
   "cell_type": "code",
   "execution_count": 122,
   "metadata": {},
   "outputs": [],
   "source": [
    "# import classifiers\n",
    "# from sklearn.linear_model import LogisticRegression\n",
    "from sklearn.ensemble import RandomForestClassifier, GradientBoostingClassifier\n",
    "# from sklearn.ensemble import AdaBoostClassifier\n",
    "# from sklearn.tree import DecisionTreeClassifier\n",
    "# from sklearn.svm import SVC\n",
    "# from sklearn.neighbors import KNeighborsClassifier\n",
    "from xgboost import XGBClassifier\n",
    "from imblearn.over_sampling import SMOTE\n",
    "from sklearn.metrics import accuracy_score, confusion_matrix, classification_report, roc_auc_score, roc_curve, auc"
   ]
  },
  {
   "cell_type": "code",
   "execution_count": 123,
   "metadata": {},
   "outputs": [
    {
     "data": {
      "text/plain": [
       "794887    0\n",
       "182856    0\n",
       "212698    0\n",
       "637855    0\n",
       "857272    1\n",
       "         ..\n",
       "110268    0\n",
       "259178    0\n",
       "131932    0\n",
       "671155    0\n",
       "121958    0\n",
       "Name: primary_close_flag, Length: 830005, dtype: int64"
      ]
     },
     "execution_count": 123,
     "metadata": {},
     "output_type": "execute_result"
    }
   ],
   "source": [
    "y_train['primary_close_flag']"
   ]
  },
  {
   "cell_type": "code",
   "execution_count": 124,
   "metadata": {},
   "outputs": [],
   "source": [
    "# undersample the majority class\n",
    "from imblearn.under_sampling import RandomUnderSampler\n",
    "rus = RandomUnderSampler(random_state=42)\n",
    "X_train_res, y_train_res = rus.fit_resample(X_train, y_train['primary_close_flag'])\n",
    "\n",
    "# oversample the minority class\n",
    "sm = SMOTE(random_state=42)\n",
    "X_train_res, y_train_res = sm.fit_resample(X_train_res, y_train_res)\n"
   ]
  },
  {
   "cell_type": "code",
   "execution_count": 125,
   "metadata": {},
   "outputs": [
    {
     "data": {
      "text/html": [
       "<style>#sk-container-id-13 {color: black;background-color: white;}#sk-container-id-13 pre{padding: 0;}#sk-container-id-13 div.sk-toggleable {background-color: white;}#sk-container-id-13 label.sk-toggleable__label {cursor: pointer;display: block;width: 100%;margin-bottom: 0;padding: 0.3em;box-sizing: border-box;text-align: center;}#sk-container-id-13 label.sk-toggleable__label-arrow:before {content: \"▸\";float: left;margin-right: 0.25em;color: #696969;}#sk-container-id-13 label.sk-toggleable__label-arrow:hover:before {color: black;}#sk-container-id-13 div.sk-estimator:hover label.sk-toggleable__label-arrow:before {color: black;}#sk-container-id-13 div.sk-toggleable__content {max-height: 0;max-width: 0;overflow: hidden;text-align: left;background-color: #f0f8ff;}#sk-container-id-13 div.sk-toggleable__content pre {margin: 0.2em;color: black;border-radius: 0.25em;background-color: #f0f8ff;}#sk-container-id-13 input.sk-toggleable__control:checked~div.sk-toggleable__content {max-height: 200px;max-width: 100%;overflow: auto;}#sk-container-id-13 input.sk-toggleable__control:checked~label.sk-toggleable__label-arrow:before {content: \"▾\";}#sk-container-id-13 div.sk-estimator input.sk-toggleable__control:checked~label.sk-toggleable__label {background-color: #d4ebff;}#sk-container-id-13 div.sk-label input.sk-toggleable__control:checked~label.sk-toggleable__label {background-color: #d4ebff;}#sk-container-id-13 input.sk-hidden--visually {border: 0;clip: rect(1px 1px 1px 1px);clip: rect(1px, 1px, 1px, 1px);height: 1px;margin: -1px;overflow: hidden;padding: 0;position: absolute;width: 1px;}#sk-container-id-13 div.sk-estimator {font-family: monospace;background-color: #f0f8ff;border: 1px dotted black;border-radius: 0.25em;box-sizing: border-box;margin-bottom: 0.5em;}#sk-container-id-13 div.sk-estimator:hover {background-color: #d4ebff;}#sk-container-id-13 div.sk-parallel-item::after {content: \"\";width: 100%;border-bottom: 1px solid gray;flex-grow: 1;}#sk-container-id-13 div.sk-label:hover label.sk-toggleable__label {background-color: #d4ebff;}#sk-container-id-13 div.sk-serial::before {content: \"\";position: absolute;border-left: 1px solid gray;box-sizing: border-box;top: 0;bottom: 0;left: 50%;z-index: 0;}#sk-container-id-13 div.sk-serial {display: flex;flex-direction: column;align-items: center;background-color: white;padding-right: 0.2em;padding-left: 0.2em;position: relative;}#sk-container-id-13 div.sk-item {position: relative;z-index: 1;}#sk-container-id-13 div.sk-parallel {display: flex;align-items: stretch;justify-content: center;background-color: white;position: relative;}#sk-container-id-13 div.sk-item::before, #sk-container-id-13 div.sk-parallel-item::before {content: \"\";position: absolute;border-left: 1px solid gray;box-sizing: border-box;top: 0;bottom: 0;left: 50%;z-index: -1;}#sk-container-id-13 div.sk-parallel-item {display: flex;flex-direction: column;z-index: 1;position: relative;background-color: white;}#sk-container-id-13 div.sk-parallel-item:first-child::after {align-self: flex-end;width: 50%;}#sk-container-id-13 div.sk-parallel-item:last-child::after {align-self: flex-start;width: 50%;}#sk-container-id-13 div.sk-parallel-item:only-child::after {width: 0;}#sk-container-id-13 div.sk-dashed-wrapped {border: 1px dashed gray;margin: 0 0.4em 0.5em 0.4em;box-sizing: border-box;padding-bottom: 0.4em;background-color: white;}#sk-container-id-13 div.sk-label label {font-family: monospace;font-weight: bold;display: inline-block;line-height: 1.2em;}#sk-container-id-13 div.sk-label-container {text-align: center;}#sk-container-id-13 div.sk-container {/* jupyter's `normalize.less` sets `[hidden] { display: none; }` but bootstrap.min.css set `[hidden] { display: none !important; }` so we also need the `!important` here to be able to override the default hidden behavior on the sphinx rendered scikit-learn.org. See: https://github.com/scikit-learn/scikit-learn/issues/21755 */display: inline-block !important;position: relative;}#sk-container-id-13 div.sk-text-repr-fallback {display: none;}</style><div id=\"sk-container-id-13\" class=\"sk-top-container\"><div class=\"sk-text-repr-fallback\"><pre>GradientBoostingClassifier(random_state=42)</pre><b>In a Jupyter environment, please rerun this cell to show the HTML representation or trust the notebook. <br />On GitHub, the HTML representation is unable to render, please try loading this page with nbviewer.org.</b></div><div class=\"sk-container\" hidden><div class=\"sk-item\"><div class=\"sk-estimator sk-toggleable\"><input class=\"sk-toggleable__control sk-hidden--visually\" id=\"sk-estimator-id-13\" type=\"checkbox\" checked><label for=\"sk-estimator-id-13\" class=\"sk-toggleable__label sk-toggleable__label-arrow\">GradientBoostingClassifier</label><div class=\"sk-toggleable__content\"><pre>GradientBoostingClassifier(random_state=42)</pre></div></div></div></div></div>"
      ],
      "text/plain": [
       "GradientBoostingClassifier(random_state=42)"
      ]
     },
     "execution_count": 125,
     "metadata": {},
     "output_type": "execute_result"
    }
   ],
   "source": [
    "\n",
    "# gradient boosting classifier\n",
    "gbc = GradientBoostingClassifier(random_state=42)\n",
    "gbc.fit(X_train_res, y_train_res)\n"
   ]
  },
  {
   "cell_type": "code",
   "execution_count": 126,
   "metadata": {},
   "outputs": [],
   "source": [
    "# random forest classifier\n",
    "rfc = RandomForestClassifier(n_estimators=100,random_state=42)\n",
    "rfc.fit(X_train_res, y_train_res)\n"
   ]
  },
  {
   "cell_type": "code",
   "execution_count": null,
   "metadata": {},
   "outputs": [
    {
     "data": {
      "text/html": [
       "<style>#sk-container-id-9 {color: black;background-color: white;}#sk-container-id-9 pre{padding: 0;}#sk-container-id-9 div.sk-toggleable {background-color: white;}#sk-container-id-9 label.sk-toggleable__label {cursor: pointer;display: block;width: 100%;margin-bottom: 0;padding: 0.3em;box-sizing: border-box;text-align: center;}#sk-container-id-9 label.sk-toggleable__label-arrow:before {content: \"▸\";float: left;margin-right: 0.25em;color: #696969;}#sk-container-id-9 label.sk-toggleable__label-arrow:hover:before {color: black;}#sk-container-id-9 div.sk-estimator:hover label.sk-toggleable__label-arrow:before {color: black;}#sk-container-id-9 div.sk-toggleable__content {max-height: 0;max-width: 0;overflow: hidden;text-align: left;background-color: #f0f8ff;}#sk-container-id-9 div.sk-toggleable__content pre {margin: 0.2em;color: black;border-radius: 0.25em;background-color: #f0f8ff;}#sk-container-id-9 input.sk-toggleable__control:checked~div.sk-toggleable__content {max-height: 200px;max-width: 100%;overflow: auto;}#sk-container-id-9 input.sk-toggleable__control:checked~label.sk-toggleable__label-arrow:before {content: \"▾\";}#sk-container-id-9 div.sk-estimator input.sk-toggleable__control:checked~label.sk-toggleable__label {background-color: #d4ebff;}#sk-container-id-9 div.sk-label input.sk-toggleable__control:checked~label.sk-toggleable__label {background-color: #d4ebff;}#sk-container-id-9 input.sk-hidden--visually {border: 0;clip: rect(1px 1px 1px 1px);clip: rect(1px, 1px, 1px, 1px);height: 1px;margin: -1px;overflow: hidden;padding: 0;position: absolute;width: 1px;}#sk-container-id-9 div.sk-estimator {font-family: monospace;background-color: #f0f8ff;border: 1px dotted black;border-radius: 0.25em;box-sizing: border-box;margin-bottom: 0.5em;}#sk-container-id-9 div.sk-estimator:hover {background-color: #d4ebff;}#sk-container-id-9 div.sk-parallel-item::after {content: \"\";width: 100%;border-bottom: 1px solid gray;flex-grow: 1;}#sk-container-id-9 div.sk-label:hover label.sk-toggleable__label {background-color: #d4ebff;}#sk-container-id-9 div.sk-serial::before {content: \"\";position: absolute;border-left: 1px solid gray;box-sizing: border-box;top: 0;bottom: 0;left: 50%;z-index: 0;}#sk-container-id-9 div.sk-serial {display: flex;flex-direction: column;align-items: center;background-color: white;padding-right: 0.2em;padding-left: 0.2em;position: relative;}#sk-container-id-9 div.sk-item {position: relative;z-index: 1;}#sk-container-id-9 div.sk-parallel {display: flex;align-items: stretch;justify-content: center;background-color: white;position: relative;}#sk-container-id-9 div.sk-item::before, #sk-container-id-9 div.sk-parallel-item::before {content: \"\";position: absolute;border-left: 1px solid gray;box-sizing: border-box;top: 0;bottom: 0;left: 50%;z-index: -1;}#sk-container-id-9 div.sk-parallel-item {display: flex;flex-direction: column;z-index: 1;position: relative;background-color: white;}#sk-container-id-9 div.sk-parallel-item:first-child::after {align-self: flex-end;width: 50%;}#sk-container-id-9 div.sk-parallel-item:last-child::after {align-self: flex-start;width: 50%;}#sk-container-id-9 div.sk-parallel-item:only-child::after {width: 0;}#sk-container-id-9 div.sk-dashed-wrapped {border: 1px dashed gray;margin: 0 0.4em 0.5em 0.4em;box-sizing: border-box;padding-bottom: 0.4em;background-color: white;}#sk-container-id-9 div.sk-label label {font-family: monospace;font-weight: bold;display: inline-block;line-height: 1.2em;}#sk-container-id-9 div.sk-label-container {text-align: center;}#sk-container-id-9 div.sk-container {/* jupyter's `normalize.less` sets `[hidden] { display: none; }` but bootstrap.min.css set `[hidden] { display: none !important; }` so we also need the `!important` here to be able to override the default hidden behavior on the sphinx rendered scikit-learn.org. See: https://github.com/scikit-learn/scikit-learn/issues/21755 */display: inline-block !important;position: relative;}#sk-container-id-9 div.sk-text-repr-fallback {display: none;}</style><div id=\"sk-container-id-9\" class=\"sk-top-container\"><div class=\"sk-text-repr-fallback\"><pre>XGBClassifier(base_score=None, booster=None, callbacks=None,\n",
       "              colsample_bylevel=None, colsample_bynode=None,\n",
       "              colsample_bytree=None, early_stopping_rounds=None,\n",
       "              enable_categorical=False, eval_metric=None, feature_types=None,\n",
       "              gamma=None, gpu_id=None, grow_policy=None, importance_type=None,\n",
       "              interaction_constraints=None, learning_rate=None, max_bin=None,\n",
       "              max_cat_threshold=None, max_cat_to_onehot=None,\n",
       "              max_delta_step=None, max_depth=None, max_leaves=None,\n",
       "              min_child_weight=None, missing=nan, monotone_constraints=None,\n",
       "              n_estimators=100, n_jobs=None, num_parallel_tree=None,\n",
       "              predictor=None, random_state=42, ...)</pre><b>In a Jupyter environment, please rerun this cell to show the HTML representation or trust the notebook. <br />On GitHub, the HTML representation is unable to render, please try loading this page with nbviewer.org.</b></div><div class=\"sk-container\" hidden><div class=\"sk-item\"><div class=\"sk-estimator sk-toggleable\"><input class=\"sk-toggleable__control sk-hidden--visually\" id=\"sk-estimator-id-9\" type=\"checkbox\" checked><label for=\"sk-estimator-id-9\" class=\"sk-toggleable__label sk-toggleable__label-arrow\">XGBClassifier</label><div class=\"sk-toggleable__content\"><pre>XGBClassifier(base_score=None, booster=None, callbacks=None,\n",
       "              colsample_bylevel=None, colsample_bynode=None,\n",
       "              colsample_bytree=None, early_stopping_rounds=None,\n",
       "              enable_categorical=False, eval_metric=None, feature_types=None,\n",
       "              gamma=None, gpu_id=None, grow_policy=None, importance_type=None,\n",
       "              interaction_constraints=None, learning_rate=None, max_bin=None,\n",
       "              max_cat_threshold=None, max_cat_to_onehot=None,\n",
       "              max_delta_step=None, max_depth=None, max_leaves=None,\n",
       "              min_child_weight=None, missing=nan, monotone_constraints=None,\n",
       "              n_estimators=100, n_jobs=None, num_parallel_tree=None,\n",
       "              predictor=None, random_state=42, ...)</pre></div></div></div></div></div>"
      ],
      "text/plain": [
       "XGBClassifier(base_score=None, booster=None, callbacks=None,\n",
       "              colsample_bylevel=None, colsample_bynode=None,\n",
       "              colsample_bytree=None, early_stopping_rounds=None,\n",
       "              enable_categorical=False, eval_metric=None, feature_types=None,\n",
       "              gamma=None, gpu_id=None, grow_policy=None, importance_type=None,\n",
       "              interaction_constraints=None, learning_rate=None, max_bin=None,\n",
       "              max_cat_threshold=None, max_cat_to_onehot=None,\n",
       "              max_delta_step=None, max_depth=None, max_leaves=None,\n",
       "              min_child_weight=None, missing=nan, monotone_constraints=None,\n",
       "              n_estimators=100, n_jobs=None, num_parallel_tree=None,\n",
       "              predictor=None, random_state=42, ...)"
      ]
     },
     "execution_count": 71,
     "metadata": {},
     "output_type": "execute_result"
    }
   ],
   "source": [
    "\n",
    "# xgboost classifier\n",
    "xgb = XGBClassifier(random_state=42)\n",
    "xgb.fit(X_train_res, y_train_res)\n"
   ]
  },
  {
   "cell_type": "code",
   "execution_count": 72,
   "metadata": {},
   "outputs": [],
   "source": [
    "\n",
    "# predict on test data\n",
    "y_pred_gbc = gbc.predict(X_test)\n",
    "y_pred_rfc = rfc.predict(X_test)\n",
    "y_pred_xgb = xgb.predict(X_test)\n"
   ]
  },
  {
   "cell_type": "code",
   "execution_count": 73,
   "metadata": {},
   "outputs": [
    {
     "name": "stdout",
     "output_type": "stream",
     "text": [
      "Accuracy score for Gradient Boosting Classifier is: 0.8799359523473899\n",
      "Accuracy score for Random Forest Classifier is: 0.9187838174858767\n",
      "Accuracy score for XGBoost Classifier is: 0.9004369842663977\n"
     ]
    }
   ],
   "source": [
    "\n",
    "# accuracy score\n",
    "print('Accuracy score for Gradient Boosting Classifier is:', accuracy_score(y_test['primary_close_flag'], y_pred_gbc))\n",
    "print('Accuracy score for Random Forest Classifier is:', accuracy_score(y_test['primary_close_flag'], y_pred_rfc))\n",
    "print('Accuracy score for XGBoost Classifier is:', accuracy_score(y_test['primary_close_flag'], y_pred_xgb))"
   ]
  },
  {
   "cell_type": "code",
   "execution_count": 74,
   "metadata": {},
   "outputs": [
    {
     "name": "stdout",
     "output_type": "stream",
     "text": [
      "Confusion Matrix for Gradient Boosting Classifier is: [[208905  32286]\n",
      " [   932  34546]]\n",
      "Confusion Matrix for Random Forest Classifier is: [[219538  21653]\n",
      " [   817  34661]]\n",
      "Confusion Matrix for XGBoost Classifier is: [[214535  26656]\n",
      " [   890  34588]]\n"
     ]
    }
   ],
   "source": [
    "\n",
    "# confusion matrix\n",
    "print('Confusion Matrix for Gradient Boosting Classifier is:', confusion_matrix(y_test['primary_close_flag'], y_pred_gbc))\n",
    "print('Confusion Matrix for Random Forest Classifier is:', confusion_matrix(y_test['primary_close_flag'], y_pred_rfc))\n",
    "print('Confusion Matrix for XGBoost Classifier is:', confusion_matrix(y_test['primary_close_flag'], y_pred_xgb))\n"
   ]
  },
  {
   "cell_type": "code",
   "execution_count": 75,
   "metadata": {},
   "outputs": [
    {
     "name": "stdout",
     "output_type": "stream",
     "text": [
      "Classification Report for Gradient Boosting Classifier is:               precision    recall  f1-score   support\n",
      "\n",
      "           0       1.00      0.87      0.93    241191\n",
      "           1       0.52      0.97      0.68     35478\n",
      "\n",
      "    accuracy                           0.88    276669\n",
      "   macro avg       0.76      0.92      0.80    276669\n",
      "weighted avg       0.93      0.88      0.89    276669\n",
      "\n",
      "Classification Report for Random Forest Classifier is:               precision    recall  f1-score   support\n",
      "\n",
      "           0       1.00      0.91      0.95    241191\n",
      "           1       0.62      0.98      0.76     35478\n",
      "\n",
      "    accuracy                           0.92    276669\n",
      "   macro avg       0.81      0.94      0.85    276669\n",
      "weighted avg       0.95      0.92      0.93    276669\n",
      "\n",
      "Classification Report for XGBoost Classifier is:               precision    recall  f1-score   support\n",
      "\n",
      "           0       1.00      0.89      0.94    241191\n",
      "           1       0.56      0.97      0.72     35478\n",
      "\n",
      "    accuracy                           0.90    276669\n",
      "   macro avg       0.78      0.93      0.83    276669\n",
      "weighted avg       0.94      0.90      0.91    276669\n",
      "\n"
     ]
    }
   ],
   "source": [
    "\n",
    "# classification report\n",
    "print('Classification Report for Gradient Boosting Classifier is:', classification_report(y_test['primary_close_flag'], y_pred_gbc))\n",
    "print('Classification Report for Random Forest Classifier is:', classification_report(y_test['primary_close_flag'], y_pred_rfc))\n",
    "print('Classification Report for XGBoost Classifier is:', classification_report(y_test['primary_close_flag'], y_pred_xgb))\n"
   ]
  },
  {
   "cell_type": "code",
   "execution_count": 76,
   "metadata": {},
   "outputs": [
    {
     "name": "stdout",
     "output_type": "stream",
     "text": [
      "ROC AUC score for Gradient Boosting Classifier is: 0.9199347414003416\n",
      "ROC AUC score for Random Forest Classifier is: 0.9435981605539233\n",
      "ROC AUC score for XGBoost Classifier is: 0.9321979056153524\n"
     ]
    }
   ],
   "source": [
    "\n",
    "# roc auc score\n",
    "print('ROC AUC score for Gradient Boosting Classifier is:', roc_auc_score(y_test['primary_close_flag'], y_pred_gbc))\n",
    "print('ROC AUC score for Random Forest Classifier is:', roc_auc_score(y_test['primary_close_flag'], y_pred_rfc))\n",
    "print('ROC AUC score for XGBoost Classifier is:', roc_auc_score(y_test['primary_close_flag'], y_pred_xgb))\n"
   ]
  },
  {
   "cell_type": "code",
   "execution_count": 77,
   "metadata": {},
   "outputs": [],
   "source": [
    "\n",
    "# roc curve\n",
    "fpr_gbc, tpr_gbc, thresholds_gbc = roc_curve(y_test['primary_close_flag'], y_pred_gbc)\n",
    "fpr_rfc, tpr_rfc, thresholds_rfc = roc_curve(y_test['primary_close_flag'], y_pred_rfc)\n",
    "fpr_xgb, tpr_xgb, thresholds_xgb = roc_curve(y_test['primary_close_flag'], y_pred_xgb)\n"
   ]
  },
  {
   "cell_type": "code",
   "execution_count": 78,
   "metadata": {},
   "outputs": [
    {
     "data": {
      "image/png": "[encoded data removed]",
      "text/plain": [
       "<Figure size 1000x800 with 1 Axes>"
      ]
     },
     "metadata": {},
     "output_type": "display_data"
    }
   ],
   "source": [
    "\n",
    "# plot roc curve\n",
    "plt.figure(figsize=(10,8))\n",
    "plt.plot(fpr_gbc, tpr_gbc, label='Gradient Boosting Classifier (area = %0.2f)' % roc_auc_score(y_test['primary_close_flag'], y_pred_gbc))\n",
    "plt.plot(fpr_rfc, tpr_rfc, label='Random Forest Classifier (area = %0.2f)' % roc_auc_score(y_test['primary_close_flag'], y_pred_rfc))\n",
    "plt.plot(fpr_xgb, tpr_xgb, label='XGBoost Classifier (area = %0.2f)' % roc_auc_score(y_test['primary_close_flag'], y_pred_xgb))\n",
    "plt.plot([0, 1], [0, 1],'r--')\n",
    "plt.title('ROC Curve')\n",
    "plt.xlabel('False Positive Rate')\n",
    "plt.ylabel('True Positive Rate')\n",
    "plt.legend(loc=\"lower right\")\n",
    "plt.savefig('ROC Curve.png')\n",
    "plt.show()\n"
   ]
  },
  {
   "cell_type": "code",
   "execution_count": 81,
   "metadata": {},
   "outputs": [],
   "source": [
    "# predict on test data\n",
    "y_pred_rfc = rfc.predict(test_pca)\n",
    "\n",
    "\n",
    "# store the predictions in model_predictions.csv\n",
    "\n",
    "df_test['primary_close_flag'] = y_pred_rfc\n",
    "\n"
   ]
  },
  {
   "cell_type": "code",
   "execution_count": 82,
   "metadata": {},
   "outputs": [
    {
     "data": {
      "text/plain": [
       "0    377830\n",
       "1     96459\n",
       "Name: primary_close_flag, dtype: int64"
      ]
     },
     "execution_count": 82,
     "metadata": {},
     "output_type": "execute_result"
    }
   ],
   "source": [
    "df_test['primary_close_flag'].value_counts()"
   ]
  },
  {
   "cell_type": "code",
   "execution_count": null,
   "metadata": {},
   "outputs": [],
   "source": [
    "df_test.shape"
   ]
  },
  {
   "cell_type": "code",
   "execution_count": 83,
   "metadata": {},
   "outputs": [],
   "source": [
    "rus = RandomUnderSampler(random_state=42)\n",
    "X_train_res, y_train_res = rus.fit_resample(X_train, y_train['final_close_flag'])\n",
    "\n",
    "# oversample the minority class\n",
    "sm = SMOTE(random_state=42)\n",
    "X_train_res, y_train_res = sm.fit_resample(X_train_res, y_train_res)"
   ]
  },
  {
   "cell_type": "code",
   "execution_count": 84,
   "metadata": {},
   "outputs": [
    {
     "data": {
      "text/html": [
       "<style>#sk-container-id-10 {color: black;background-color: white;}#sk-container-id-10 pre{padding: 0;}#sk-container-id-10 div.sk-toggleable {background-color: white;}#sk-container-id-10 label.sk-toggleable__label {cursor: pointer;display: block;width: 100%;margin-bottom: 0;padding: 0.3em;box-sizing: border-box;text-align: center;}#sk-container-id-10 label.sk-toggleable__label-arrow:before {content: \"▸\";float: left;margin-right: 0.25em;color: #696969;}#sk-container-id-10 label.sk-toggleable__label-arrow:hover:before {color: black;}#sk-container-id-10 div.sk-estimator:hover label.sk-toggleable__label-arrow:before {color: black;}#sk-container-id-10 div.sk-toggleable__content {max-height: 0;max-width: 0;overflow: hidden;text-align: left;background-color: #f0f8ff;}#sk-container-id-10 div.sk-toggleable__content pre {margin: 0.2em;color: black;border-radius: 0.25em;background-color: #f0f8ff;}#sk-container-id-10 input.sk-toggleable__control:checked~div.sk-toggleable__content {max-height: 200px;max-width: 100%;overflow: auto;}#sk-container-id-10 input.sk-toggleable__control:checked~label.sk-toggleable__label-arrow:before {content: \"▾\";}#sk-container-id-10 div.sk-estimator input.sk-toggleable__control:checked~label.sk-toggleable__label {background-color: #d4ebff;}#sk-container-id-10 div.sk-label input.sk-toggleable__control:checked~label.sk-toggleable__label {background-color: #d4ebff;}#sk-container-id-10 input.sk-hidden--visually {border: 0;clip: rect(1px 1px 1px 1px);clip: rect(1px, 1px, 1px, 1px);height: 1px;margin: -1px;overflow: hidden;padding: 0;position: absolute;width: 1px;}#sk-container-id-10 div.sk-estimator {font-family: monospace;background-color: #f0f8ff;border: 1px dotted black;border-radius: 0.25em;box-sizing: border-box;margin-bottom: 0.5em;}#sk-container-id-10 div.sk-estimator:hover {background-color: #d4ebff;}#sk-container-id-10 div.sk-parallel-item::after {content: \"\";width: 100%;border-bottom: 1px solid gray;flex-grow: 1;}#sk-container-id-10 div.sk-label:hover label.sk-toggleable__label {background-color: #d4ebff;}#sk-container-id-10 div.sk-serial::before {content: \"\";position: absolute;border-left: 1px solid gray;box-sizing: border-box;top: 0;bottom: 0;left: 50%;z-index: 0;}#sk-container-id-10 div.sk-serial {display: flex;flex-direction: column;align-items: center;background-color: white;padding-right: 0.2em;padding-left: 0.2em;position: relative;}#sk-container-id-10 div.sk-item {position: relative;z-index: 1;}#sk-container-id-10 div.sk-parallel {display: flex;align-items: stretch;justify-content: center;background-color: white;position: relative;}#sk-container-id-10 div.sk-item::before, #sk-container-id-10 div.sk-parallel-item::before {content: \"\";position: absolute;border-left: 1px solid gray;box-sizing: border-box;top: 0;bottom: 0;left: 50%;z-index: -1;}#sk-container-id-10 div.sk-parallel-item {display: flex;flex-direction: column;z-index: 1;position: relative;background-color: white;}#sk-container-id-10 div.sk-parallel-item:first-child::after {align-self: flex-end;width: 50%;}#sk-container-id-10 div.sk-parallel-item:last-child::after {align-self: flex-start;width: 50%;}#sk-container-id-10 div.sk-parallel-item:only-child::after {width: 0;}#sk-container-id-10 div.sk-dashed-wrapped {border: 1px dashed gray;margin: 0 0.4em 0.5em 0.4em;box-sizing: border-box;padding-bottom: 0.4em;background-color: white;}#sk-container-id-10 div.sk-label label {font-family: monospace;font-weight: bold;display: inline-block;line-height: 1.2em;}#sk-container-id-10 div.sk-label-container {text-align: center;}#sk-container-id-10 div.sk-container {/* jupyter's `normalize.less` sets `[hidden] { display: none; }` but bootstrap.min.css set `[hidden] { display: none !important; }` so we also need the `!important` here to be able to override the default hidden behavior on the sphinx rendered scikit-learn.org. See: https://github.com/scikit-learn/scikit-learn/issues/21755 */display: inline-block !important;position: relative;}#sk-container-id-10 div.sk-text-repr-fallback {display: none;}</style><div id=\"sk-container-id-10\" class=\"sk-top-container\"><div class=\"sk-text-repr-fallback\"><pre>GradientBoostingClassifier(random_state=42)</pre><b>In a Jupyter environment, please rerun this cell to show the HTML representation or trust the notebook. <br />On GitHub, the HTML representation is unable to render, please try loading this page with nbviewer.org.</b></div><div class=\"sk-container\" hidden><div class=\"sk-item\"><div class=\"sk-estimator sk-toggleable\"><input class=\"sk-toggleable__control sk-hidden--visually\" id=\"sk-estimator-id-10\" type=\"checkbox\" checked><label for=\"sk-estimator-id-10\" class=\"sk-toggleable__label sk-toggleable__label-arrow\">GradientBoostingClassifier</label><div class=\"sk-toggleable__content\"><pre>GradientBoostingClassifier(random_state=42)</pre></div></div></div></div></div>"
      ],
      "text/plain": [
       "GradientBoostingClassifier(random_state=42)"
      ]
     },
     "execution_count": 84,
     "metadata": {},
     "output_type": "execute_result"
    }
   ],
   "source": [
    "# gradient boosting classifier\n",
    "gbc = GradientBoostingClassifier(random_state=42)\n",
    "gbc.fit(X_train_res, y_train_res)"
   ]
  },
  {
   "cell_type": "code",
   "execution_count": 85,
   "metadata": {},
   "outputs": [
    {
     "data": {
      "text/html": [
       "<style>#sk-container-id-11 {color: black;background-color: white;}#sk-container-id-11 pre{padding: 0;}#sk-container-id-11 div.sk-toggleable {background-color: white;}#sk-container-id-11 label.sk-toggleable__label {cursor: pointer;display: block;width: 100%;margin-bottom: 0;padding: 0.3em;box-sizing: border-box;text-align: center;}#sk-container-id-11 label.sk-toggleable__label-arrow:before {content: \"▸\";float: left;margin-right: 0.25em;color: #696969;}#sk-container-id-11 label.sk-toggleable__label-arrow:hover:before {color: black;}#sk-container-id-11 div.sk-estimator:hover label.sk-toggleable__label-arrow:before {color: black;}#sk-container-id-11 div.sk-toggleable__content {max-height: 0;max-width: 0;overflow: hidden;text-align: left;background-color: #f0f8ff;}#sk-container-id-11 div.sk-toggleable__content pre {margin: 0.2em;color: black;border-radius: 0.25em;background-color: #f0f8ff;}#sk-container-id-11 input.sk-toggleable__control:checked~div.sk-toggleable__content {max-height: 200px;max-width: 100%;overflow: auto;}#sk-container-id-11 input.sk-toggleable__control:checked~label.sk-toggleable__label-arrow:before {content: \"▾\";}#sk-container-id-11 div.sk-estimator input.sk-toggleable__control:checked~label.sk-toggleable__label {background-color: #d4ebff;}#sk-container-id-11 div.sk-label input.sk-toggleable__control:checked~label.sk-toggleable__label {background-color: #d4ebff;}#sk-container-id-11 input.sk-hidden--visually {border: 0;clip: rect(1px 1px 1px 1px);clip: rect(1px, 1px, 1px, 1px);height: 1px;margin: -1px;overflow: hidden;padding: 0;position: absolute;width: 1px;}#sk-container-id-11 div.sk-estimator {font-family: monospace;background-color: #f0f8ff;border: 1px dotted black;border-radius: 0.25em;box-sizing: border-box;margin-bottom: 0.5em;}#sk-container-id-11 div.sk-estimator:hover {background-color: #d4ebff;}#sk-container-id-11 div.sk-parallel-item::after {content: \"\";width: 100%;border-bottom: 1px solid gray;flex-grow: 1;}#sk-container-id-11 div.sk-label:hover label.sk-toggleable__label {background-color: #d4ebff;}#sk-container-id-11 div.sk-serial::before {content: \"\";position: absolute;border-left: 1px solid gray;box-sizing: border-box;top: 0;bottom: 0;left: 50%;z-index: 0;}#sk-container-id-11 div.sk-serial {display: flex;flex-direction: column;align-items: center;background-color: white;padding-right: 0.2em;padding-left: 0.2em;position: relative;}#sk-container-id-11 div.sk-item {position: relative;z-index: 1;}#sk-container-id-11 div.sk-parallel {display: flex;align-items: stretch;justify-content: center;background-color: white;position: relative;}#sk-container-id-11 div.sk-item::before, #sk-container-id-11 div.sk-parallel-item::before {content: \"\";position: absolute;border-left: 1px solid gray;box-sizing: border-box;top: 0;bottom: 0;left: 50%;z-index: -1;}#sk-container-id-11 div.sk-parallel-item {display: flex;flex-direction: column;z-index: 1;position: relative;background-color: white;}#sk-container-id-11 div.sk-parallel-item:first-child::after {align-self: flex-end;width: 50%;}#sk-container-id-11 div.sk-parallel-item:last-child::after {align-self: flex-start;width: 50%;}#sk-container-id-11 div.sk-parallel-item:only-child::after {width: 0;}#sk-container-id-11 div.sk-dashed-wrapped {border: 1px dashed gray;margin: 0 0.4em 0.5em 0.4em;box-sizing: border-box;padding-bottom: 0.4em;background-color: white;}#sk-container-id-11 div.sk-label label {font-family: monospace;font-weight: bold;display: inline-block;line-height: 1.2em;}#sk-container-id-11 div.sk-label-container {text-align: center;}#sk-container-id-11 div.sk-container {/* jupyter's `normalize.less` sets `[hidden] { display: none; }` but bootstrap.min.css set `[hidden] { display: none !important; }` so we also need the `!important` here to be able to override the default hidden behavior on the sphinx rendered scikit-learn.org. See: https://github.com/scikit-learn/scikit-learn/issues/21755 */display: inline-block !important;position: relative;}#sk-container-id-11 div.sk-text-repr-fallback {display: none;}</style><div id=\"sk-container-id-11\" class=\"sk-top-container\"><div class=\"sk-text-repr-fallback\"><pre>RandomForestClassifier(random_state=42)</pre><b>In a Jupyter environment, please rerun this cell to show the HTML representation or trust the notebook. <br />On GitHub, the HTML representation is unable to render, please try loading this page with nbviewer.org.</b></div><div class=\"sk-container\" hidden><div class=\"sk-item\"><div class=\"sk-estimator sk-toggleable\"><input class=\"sk-toggleable__control sk-hidden--visually\" id=\"sk-estimator-id-11\" type=\"checkbox\" checked><label for=\"sk-estimator-id-11\" class=\"sk-toggleable__label sk-toggleable__label-arrow\">RandomForestClassifier</label><div class=\"sk-toggleable__content\"><pre>RandomForestClassifier(random_state=42)</pre></div></div></div></div></div>"
      ],
      "text/plain": [
       "RandomForestClassifier(random_state=42)"
      ]
     },
     "execution_count": 85,
     "metadata": {},
     "output_type": "execute_result"
    }
   ],
   "source": [
    "# random forest classifier\n",
    "rfc = RandomForestClassifier(random_state=42)\n",
    "rfc.fit(X_train_res, y_train_res)"
   ]
  },
  {
   "cell_type": "code",
   "execution_count": 86,
   "metadata": {},
   "outputs": [
    {
     "data": {
      "text/html": [
       "<style>#sk-container-id-12 {color: black;background-color: white;}#sk-container-id-12 pre{padding: 0;}#sk-container-id-12 div.sk-toggleable {background-color: white;}#sk-container-id-12 label.sk-toggleable__label {cursor: pointer;display: block;width: 100%;margin-bottom: 0;padding: 0.3em;box-sizing: border-box;text-align: center;}#sk-container-id-12 label.sk-toggleable__label-arrow:before {content: \"▸\";float: left;margin-right: 0.25em;color: #696969;}#sk-container-id-12 label.sk-toggleable__label-arrow:hover:before {color: black;}#sk-container-id-12 div.sk-estimator:hover label.sk-toggleable__label-arrow:before {color: black;}#sk-container-id-12 div.sk-toggleable__content {max-height: 0;max-width: 0;overflow: hidden;text-align: left;background-color: #f0f8ff;}#sk-container-id-12 div.sk-toggleable__content pre {margin: 0.2em;color: black;border-radius: 0.25em;background-color: #f0f8ff;}#sk-container-id-12 input.sk-toggleable__control:checked~div.sk-toggleable__content {max-height: 200px;max-width: 100%;overflow: auto;}#sk-container-id-12 input.sk-toggleable__control:checked~label.sk-toggleable__label-arrow:before {content: \"▾\";}#sk-container-id-12 div.sk-estimator input.sk-toggleable__control:checked~label.sk-toggleable__label {background-color: #d4ebff;}#sk-container-id-12 div.sk-label input.sk-toggleable__control:checked~label.sk-toggleable__label {background-color: #d4ebff;}#sk-container-id-12 input.sk-hidden--visually {border: 0;clip: rect(1px 1px 1px 1px);clip: rect(1px, 1px, 1px, 1px);height: 1px;margin: -1px;overflow: hidden;padding: 0;position: absolute;width: 1px;}#sk-container-id-12 div.sk-estimator {font-family: monospace;background-color: #f0f8ff;border: 1px dotted black;border-radius: 0.25em;box-sizing: border-box;margin-bottom: 0.5em;}#sk-container-id-12 div.sk-estimator:hover {background-color: #d4ebff;}#sk-container-id-12 div.sk-parallel-item::after {content: \"\";width: 100%;border-bottom: 1px solid gray;flex-grow: 1;}#sk-container-id-12 div.sk-label:hover label.sk-toggleable__label {background-color: #d4ebff;}#sk-container-id-12 div.sk-serial::before {content: \"\";position: absolute;border-left: 1px solid gray;box-sizing: border-box;top: 0;bottom: 0;left: 50%;z-index: 0;}#sk-container-id-12 div.sk-serial {display: flex;flex-direction: column;align-items: center;background-color: white;padding-right: 0.2em;padding-left: 0.2em;position: relative;}#sk-container-id-12 div.sk-item {position: relative;z-index: 1;}#sk-container-id-12 div.sk-parallel {display: flex;align-items: stretch;justify-content: center;background-color: white;position: relative;}#sk-container-id-12 div.sk-item::before, #sk-container-id-12 div.sk-parallel-item::before {content: \"\";position: absolute;border-left: 1px solid gray;box-sizing: border-box;top: 0;bottom: 0;left: 50%;z-index: -1;}#sk-container-id-12 div.sk-parallel-item {display: flex;flex-direction: column;z-index: 1;position: relative;background-color: white;}#sk-container-id-12 div.sk-parallel-item:first-child::after {align-self: flex-end;width: 50%;}#sk-container-id-12 div.sk-parallel-item:last-child::after {align-self: flex-start;width: 50%;}#sk-container-id-12 div.sk-parallel-item:only-child::after {width: 0;}#sk-container-id-12 div.sk-dashed-wrapped {border: 1px dashed gray;margin: 0 0.4em 0.5em 0.4em;box-sizing: border-box;padding-bottom: 0.4em;background-color: white;}#sk-container-id-12 div.sk-label label {font-family: monospace;font-weight: bold;display: inline-block;line-height: 1.2em;}#sk-container-id-12 div.sk-label-container {text-align: center;}#sk-container-id-12 div.sk-container {/* jupyter's `normalize.less` sets `[hidden] { display: none; }` but bootstrap.min.css set `[hidden] { display: none !important; }` so we also need the `!important` here to be able to override the default hidden behavior on the sphinx rendered scikit-learn.org. See: https://github.com/scikit-learn/scikit-learn/issues/21755 */display: inline-block !important;position: relative;}#sk-container-id-12 div.sk-text-repr-fallback {display: none;}</style><div id=\"sk-container-id-12\" class=\"sk-top-container\"><div class=\"sk-text-repr-fallback\"><pre>XGBClassifier(base_score=None, booster=None, callbacks=None,\n",
       "              colsample_bylevel=None, colsample_bynode=None,\n",
       "              colsample_bytree=None, early_stopping_rounds=None,\n",
       "              enable_categorical=False, eval_metric=None, feature_types=None,\n",
       "              gamma=None, gpu_id=None, grow_policy=None, importance_type=None,\n",
       "              interaction_constraints=None, learning_rate=None, max_bin=None,\n",
       "              max_cat_threshold=None, max_cat_to_onehot=None,\n",
       "              max_delta_step=None, max_depth=None, max_leaves=None,\n",
       "              min_child_weight=None, missing=nan, monotone_constraints=None,\n",
       "              n_estimators=100, n_jobs=None, num_parallel_tree=None,\n",
       "              predictor=None, random_state=42, ...)</pre><b>In a Jupyter environment, please rerun this cell to show the HTML representation or trust the notebook. <br />On GitHub, the HTML representation is unable to render, please try loading this page with nbviewer.org.</b></div><div class=\"sk-container\" hidden><div class=\"sk-item\"><div class=\"sk-estimator sk-toggleable\"><input class=\"sk-toggleable__control sk-hidden--visually\" id=\"sk-estimator-id-12\" type=\"checkbox\" checked><label for=\"sk-estimator-id-12\" class=\"sk-toggleable__label sk-toggleable__label-arrow\">XGBClassifier</label><div class=\"sk-toggleable__content\"><pre>XGBClassifier(base_score=None, booster=None, callbacks=None,\n",
       "              colsample_bylevel=None, colsample_bynode=None,\n",
       "              colsample_bytree=None, early_stopping_rounds=None,\n",
       "              enable_categorical=False, eval_metric=None, feature_types=None,\n",
       "              gamma=None, gpu_id=None, grow_policy=None, importance_type=None,\n",
       "              interaction_constraints=None, learning_rate=None, max_bin=None,\n",
       "              max_cat_threshold=None, max_cat_to_onehot=None,\n",
       "              max_delta_step=None, max_depth=None, max_leaves=None,\n",
       "              min_child_weight=None, missing=nan, monotone_constraints=None,\n",
       "              n_estimators=100, n_jobs=None, num_parallel_tree=None,\n",
       "              predictor=None, random_state=42, ...)</pre></div></div></div></div></div>"
      ],
      "text/plain": [
       "XGBClassifier(base_score=None, booster=None, callbacks=None,\n",
       "              colsample_bylevel=None, colsample_bynode=None,\n",
       "              colsample_bytree=None, early_stopping_rounds=None,\n",
       "              enable_categorical=False, eval_metric=None, feature_types=None,\n",
       "              gamma=None, gpu_id=None, grow_policy=None, importance_type=None,\n",
       "              interaction_constraints=None, learning_rate=None, max_bin=None,\n",
       "              max_cat_threshold=None, max_cat_to_onehot=None,\n",
       "              max_delta_step=None, max_depth=None, max_leaves=None,\n",
       "              min_child_weight=None, missing=nan, monotone_constraints=None,\n",
       "              n_estimators=100, n_jobs=None, num_parallel_tree=None,\n",
       "              predictor=None, random_state=42, ...)"
      ]
     },
     "execution_count": 86,
     "metadata": {},
     "output_type": "execute_result"
    }
   ],
   "source": [
    "\n",
    "# xgboost classifier\n",
    "xgb = XGBClassifier(random_state=42)\n",
    "xgb.fit(X_train_res, y_train_res)\n"
   ]
  },
  {
   "cell_type": "code",
   "execution_count": 87,
   "metadata": {},
   "outputs": [],
   "source": [
    "\n",
    "# predict on test data\n",
    "y_pred_gbc = gbc.predict(X_test)\n",
    "y_pred_rfc = rfc.predict(X_test)\n",
    "y_pred_xgb = xgb.predict(X_test)\n"
   ]
  },
  {
   "cell_type": "code",
   "execution_count": 88,
   "metadata": {},
   "outputs": [
    {
     "name": "stdout",
     "output_type": "stream",
     "text": [
      "Accuracy score for Gradient Boosting Classifier is: 0.7370106517173951\n",
      "Accuracy score for Random Forest Classifier is: 0.829182163523922\n",
      "Accuracy score for XGBoost Classifier is: 0.7623405585736024\n"
     ]
    }
   ],
   "source": [
    "\n",
    "# accuracy score\n",
    "print('Accuracy score for Gradient Boosting Classifier is:', accuracy_score(y_test['final_close_flag'], y_pred_gbc))\n",
    "print('Accuracy score for Random Forest Classifier is:', accuracy_score(y_test['final_close_flag'], y_pred_rfc))\n",
    "print('Accuracy score for XGBoost Classifier is:', accuracy_score(y_test['final_close_flag'], y_pred_xgb))"
   ]
  },
  {
   "cell_type": "code",
   "execution_count": 89,
   "metadata": {},
   "outputs": [
    {
     "name": "stdout",
     "output_type": "stream",
     "text": [
      "Confusion Matrix for Gradient Boosting Classifier is: [[163735  60104]\n",
      " [ 12657  40173]]\n",
      "Confusion Matrix for Random Forest Classifier is: [[185940  37899]\n",
      " [  9361  43469]]\n",
      "Confusion Matrix for XGBoost Classifier is: [[169439  54400]\n",
      " [ 11353  41477]]\n"
     ]
    }
   ],
   "source": [
    "# confusion matrix\n",
    "print('Confusion Matrix for Gradient Boosting Classifier is:', confusion_matrix(y_test['final_close_flag'], y_pred_gbc))\n",
    "print('Confusion Matrix for Random Forest Classifier is:', confusion_matrix(y_test['final_close_flag'], y_pred_rfc))\n",
    "print('Confusion Matrix for XGBoost Classifier is:', confusion_matrix(y_test['final_close_flag'], y_pred_xgb))\n"
   ]
  },
  {
   "cell_type": "code",
   "execution_count": 90,
   "metadata": {},
   "outputs": [
    {
     "name": "stdout",
     "output_type": "stream",
     "text": [
      "Classification Report for Gradient Boosting Classifier is:               precision    recall  f1-score   support\n",
      "\n",
      "           0       0.93      0.73      0.82    223839\n",
      "           1       0.40      0.76      0.52     52830\n",
      "\n",
      "    accuracy                           0.74    276669\n",
      "   macro avg       0.66      0.75      0.67    276669\n",
      "weighted avg       0.83      0.74      0.76    276669\n",
      "\n",
      "Classification Report for Random Forest Classifier is:               precision    recall  f1-score   support\n",
      "\n",
      "           0       0.95      0.83      0.89    223839\n",
      "           1       0.53      0.82      0.65     52830\n",
      "\n",
      "    accuracy                           0.83    276669\n",
      "   macro avg       0.74      0.83      0.77    276669\n",
      "weighted avg       0.87      0.83      0.84    276669\n",
      "\n",
      "Classification Report for XGBoost Classifier is:               precision    recall  f1-score   support\n",
      "\n",
      "           0       0.94      0.76      0.84    223839\n",
      "           1       0.43      0.79      0.56     52830\n",
      "\n",
      "    accuracy                           0.76    276669\n",
      "   macro avg       0.68      0.77      0.70    276669\n",
      "weighted avg       0.84      0.76      0.78    276669\n",
      "\n"
     ]
    }
   ],
   "source": [
    "\n",
    "# classification report\n",
    "print('Classification Report for Gradient Boosting Classifier is:', classification_report(y_test['final_close_flag'], y_pred_gbc))\n",
    "print('Classification Report for Random Forest Classifier is:', classification_report(y_test['final_close_flag'], y_pred_rfc))\n",
    "print('Classification Report for XGBoost Classifier is:', classification_report(y_test['final_close_flag'], y_pred_xgb))\n"
   ]
  },
  {
   "cell_type": "code",
   "execution_count": 91,
   "metadata": {},
   "outputs": [
    {
     "name": "stdout",
     "output_type": "stream",
     "text": [
      "ROC AUC score for Gradient Boosting Classifier is: 0.7459528962366501\n",
      "ROC AUC score for Random Forest Classifier is: 0.8267476757772168\n",
      "ROC AUC score for XGBoost Classifier is: 0.7710356695517638\n"
     ]
    }
   ],
   "source": [
    "\n",
    "# roc auc score\n",
    "print('ROC AUC score for Gradient Boosting Classifier is:', roc_auc_score(y_test['final_close_flag'], y_pred_gbc))\n",
    "print('ROC AUC score for Random Forest Classifier is:', roc_auc_score(y_test['final_close_flag'], y_pred_rfc))\n",
    "print('ROC AUC score for XGBoost Classifier is:', roc_auc_score(y_test['final_close_flag'], y_pred_xgb))\n"
   ]
  },
  {
   "cell_type": "code",
   "execution_count": 92,
   "metadata": {},
   "outputs": [],
   "source": [
    "\n",
    "# roc curve\n",
    "fpr_gbc, tpr_gbc, thresholds_gbc = roc_curve(y_test['final_close_flag'], y_pred_gbc)\n",
    "fpr_rfc, tpr_rfc, thresholds_rfc = roc_curve(y_test['final_close_flag'], y_pred_rfc)\n",
    "fpr_xgb, tpr_xgb, thresholds_xgb = roc_curve(y_test['final_close_flag'], y_pred_xgb)\n"
   ]
  },
  {
   "cell_type": "code",
   "execution_count": 93,
   "metadata": {},
   "outputs": [
    {
     "data": {
      "image/png": "[encoded data removed]",
      "text/plain": [
       "<Figure size 1000x800 with 1 Axes>"
      ]
     },
     "metadata": {},
     "output_type": "display_data"
    }
   ],
   "source": [
    "\n",
    "# plot roc curve\n",
    "plt.figure(figsize=(10,8))\n",
    "plt.plot(fpr_gbc, tpr_gbc, label='Gradient Boosting Classifier (area = %0.2f)' % roc_auc_score(y_test['final_close_flag'], y_pred_gbc))\n",
    "plt.plot(fpr_rfc, tpr_rfc, label='Random Forest Classifier (area = %0.2f)' % roc_auc_score(y_test['final_close_flag'], y_pred_rfc))\n",
    "plt.plot(fpr_xgb, tpr_xgb, label='XGBoost Classifier (area = %0.2f)' % roc_auc_score(y_test['final_close_flag'], y_pred_xgb))\n",
    "plt.plot([0, 1], [0, 1],'r--')\n",
    "plt.title('ROC Curve')\n",
    "plt.xlabel('False Positive Rate')\n",
    "plt.ylabel('True Positive Rate')\n",
    "plt.legend(loc=\"lower right\")\n",
    "plt.savefig('ROC_ final_ Curve.png')\n",
    "plt.show()\n"
   ]
  },
  {
   "cell_type": "code",
   "execution_count": 94,
   "metadata": {},
   "outputs": [],
   "source": [
    "# predict on test data\n",
    "y_pred_rfc = rfc.predict(test_pca)\n",
    "\n",
    "df_test['final_close_flag'] = y_pred_rfc\n",
    "\n",
    "df_test['final_close_flag'].value_counts()\n",
    "\n",
    "\n",
    "df_test.to_csv('model_predictions.csv',index=False)"
   ]
  },
  {
   "cell_type": "code",
   "execution_count": 95,
   "metadata": {},
   "outputs": [
    {
     "data": {
      "text/plain": [
       "0    334970\n",
       "1    139319\n",
       "Name: final_close_flag, dtype: int64"
      ]
     },
     "execution_count": 95,
     "metadata": {},
     "output_type": "execute_result"
    }
   ],
   "source": [
    "df_test['final_close_flag'].value_counts()"
   ]
  },
  {
   "cell_type": "code",
   "execution_count": 99,
   "metadata": {},
   "outputs": [
    {
     "data": {
      "text/html": [
       "<div>\n",
       "<style scoped>\n",
       "    .dataframe tbody tr th:only-of-type {\n",
       "        vertical-align: middle;\n",
       "    }\n",
       "\n",
       "    .dataframe tbody tr th {\n",
       "        vertical-align: top;\n",
       "    }\n",
       "\n",
       "    .dataframe thead th {\n",
       "        text-align: right;\n",
       "    }\n",
       "</style>\n",
       "<table border=\"1\" class=\"dataframe\">\n",
       "  <thead>\n",
       "    <tr style=\"text-align: right;\">\n",
       "      <th></th>\n",
       "      <th>primary_close_flag</th>\n",
       "      <th>final_close_flag</th>\n",
       "    </tr>\n",
       "  </thead>\n",
       "  <tbody>\n",
       "    <tr>\n",
       "      <th>0</th>\n",
       "      <td>0</td>\n",
       "      <td>0</td>\n",
       "    </tr>\n",
       "    <tr>\n",
       "      <th>1</th>\n",
       "      <td>0</td>\n",
       "      <td>1</td>\n",
       "    </tr>\n",
       "    <tr>\n",
       "      <th>2</th>\n",
       "      <td>0</td>\n",
       "      <td>0</td>\n",
       "    </tr>\n",
       "    <tr>\n",
       "      <th>3</th>\n",
       "      <td>0</td>\n",
       "      <td>0</td>\n",
       "    </tr>\n",
       "    <tr>\n",
       "      <th>4</th>\n",
       "      <td>0</td>\n",
       "      <td>0</td>\n",
       "    </tr>\n",
       "  </tbody>\n",
       "</table>\n",
       "</div>"
      ],
      "text/plain": [
       "   primary_close_flag  final_close_flag\n",
       "0                   0                 0\n",
       "1                   0                 1\n",
       "2                   0                 0\n",
       "3                   0                 0\n",
       "4                   0                 0"
      ]
     },
     "execution_count": 99,
     "metadata": {},
     "output_type": "execute_result"
    }
   ],
   "source": [
    "# submission file\n",
    "sub=pd.read_csv('model_predictions.csv')\n",
    "\n",
    "#keep only the last two columns\n",
    "\n",
    "sub=sub.iloc[:,-2:]\n",
    "\n",
    "sub.head()\n"
   ]
  },
  {
   "cell_type": "code",
   "execution_count": null,
   "metadata": {},
   "outputs": [],
   "source": []
  }
 ],
 "metadata": {
  "kernelspec": {
   "display_name": "base",
   "language": "python",
   "name": "python3"
  },
  "language_info": {
   "codemirror_mode": {
    "name": "ipython",
    "version": 3
   },
   "file_extension": ".py",
   "mimetype": "text/x-python",
   "name": "python",
   "nbconvert_exporter": "python",
   "pygments_lexer": "ipython3",
   "version": "3.11.4"
  },
  "orig_nbformat": 4
 },
 "nbformat": 4,
 "nbformat_minor": 2
}
